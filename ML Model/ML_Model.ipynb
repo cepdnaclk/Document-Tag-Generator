{
  "nbformat": 4,
  "nbformat_minor": 0,
  "metadata": {
    "colab": {
      "name": "ML Model.ipynb",
      "provenance": []
    },
    "kernelspec": {
      "name": "python3",
      "display_name": "Python 3"
    },
    "language_info": {
      "name": "python"
    },
    "accelerator": "TPU"
  },
  "cells": [
    {
      "cell_type": "markdown",
      "source": [
        "## Importing Libraries\n"
      ],
      "metadata": {
        "id": "lUsweOpoaPKi"
      }
    },
    {
      "cell_type": "code",
      "execution_count": 41,
      "metadata": {
        "id": "GQdmQsR6z8TM"
      },
      "outputs": [],
      "source": [
        "import tensorflow as tf\n",
        "import pandas as pd\n",
        "import numpy as np\n",
        "import ast\n",
        "from sklearn.model_selection import train_test_split\n",
        "from tensorflow.keras.layers.experimental.preprocessing import TextVectorization\n",
        "from sklearn.preprocessing import MultiLabelBinarizer\n"
      ]
    },
    {
      "cell_type": "markdown",
      "source": [
        "## Read and Display data\n"
      ],
      "metadata": {
        "id": "nHoZDA07aSxz"
      }
    },
    {
      "cell_type": "code",
      "source": [
        "train_df = pd.read_csv(\"/content/drive/MyDrive/Document Tag Generator/stackoverflow.csv\")\n",
        "train_df.head()"
      ],
      "metadata": {
        "colab": {
          "base_uri": "https://localhost:8080/",
          "height": 206
        },
        "id": "eh54BuRRz_kK",
        "outputId": "fc60efb9-76ce-4c42-b026-b4d69ac6de72"
      },
      "execution_count": 42,
      "outputs": [
        {
          "output_type": "execute_result",
          "data": {
            "text/plain": [
              "   Unnamed: 0                                               Text  \\\n",
              "0           2  aspnet site maps has anyone got experience cre...   \n",
              "1           4  adding scripting functionality to net applicat...   \n",
              "2           5  should i use nested classes in this case i am ...   \n",
              "3           6  homegrown consumption of web services i have b...   \n",
              "4           8  automatically update version number i would li...   \n",
              "\n",
              "                 Tags  \n",
              "0  ['sql', 'asp.net']  \n",
              "1      ['c#', '.net']  \n",
              "2             ['c++']  \n",
              "3            ['.net']  \n",
              "4              ['c#']  "
            ],
            "text/html": [
              "\n",
              "  <div id=\"df-44b26064-6bec-460b-8186-2b24b565e89b\">\n",
              "    <div class=\"colab-df-container\">\n",
              "      <div>\n",
              "<style scoped>\n",
              "    .dataframe tbody tr th:only-of-type {\n",
              "        vertical-align: middle;\n",
              "    }\n",
              "\n",
              "    .dataframe tbody tr th {\n",
              "        vertical-align: top;\n",
              "    }\n",
              "\n",
              "    .dataframe thead th {\n",
              "        text-align: right;\n",
              "    }\n",
              "</style>\n",
              "<table border=\"1\" class=\"dataframe\">\n",
              "  <thead>\n",
              "    <tr style=\"text-align: right;\">\n",
              "      <th></th>\n",
              "      <th>Unnamed: 0</th>\n",
              "      <th>Text</th>\n",
              "      <th>Tags</th>\n",
              "    </tr>\n",
              "  </thead>\n",
              "  <tbody>\n",
              "    <tr>\n",
              "      <th>0</th>\n",
              "      <td>2</td>\n",
              "      <td>aspnet site maps has anyone got experience cre...</td>\n",
              "      <td>['sql', 'asp.net']</td>\n",
              "    </tr>\n",
              "    <tr>\n",
              "      <th>1</th>\n",
              "      <td>4</td>\n",
              "      <td>adding scripting functionality to net applicat...</td>\n",
              "      <td>['c#', '.net']</td>\n",
              "    </tr>\n",
              "    <tr>\n",
              "      <th>2</th>\n",
              "      <td>5</td>\n",
              "      <td>should i use nested classes in this case i am ...</td>\n",
              "      <td>['c++']</td>\n",
              "    </tr>\n",
              "    <tr>\n",
              "      <th>3</th>\n",
              "      <td>6</td>\n",
              "      <td>homegrown consumption of web services i have b...</td>\n",
              "      <td>['.net']</td>\n",
              "    </tr>\n",
              "    <tr>\n",
              "      <th>4</th>\n",
              "      <td>8</td>\n",
              "      <td>automatically update version number i would li...</td>\n",
              "      <td>['c#']</td>\n",
              "    </tr>\n",
              "  </tbody>\n",
              "</table>\n",
              "</div>\n",
              "      <button class=\"colab-df-convert\" onclick=\"convertToInteractive('df-44b26064-6bec-460b-8186-2b24b565e89b')\"\n",
              "              title=\"Convert this dataframe to an interactive table.\"\n",
              "              style=\"display:none;\">\n",
              "        \n",
              "  <svg xmlns=\"http://www.w3.org/2000/svg\" height=\"24px\"viewBox=\"0 0 24 24\"\n",
              "       width=\"24px\">\n",
              "    <path d=\"M0 0h24v24H0V0z\" fill=\"none\"/>\n",
              "    <path d=\"M18.56 5.44l.94 2.06.94-2.06 2.06-.94-2.06-.94-.94-2.06-.94 2.06-2.06.94zm-11 1L8.5 8.5l.94-2.06 2.06-.94-2.06-.94L8.5 2.5l-.94 2.06-2.06.94zm10 10l.94 2.06.94-2.06 2.06-.94-2.06-.94-.94-2.06-.94 2.06-2.06.94z\"/><path d=\"M17.41 7.96l-1.37-1.37c-.4-.4-.92-.59-1.43-.59-.52 0-1.04.2-1.43.59L10.3 9.45l-7.72 7.72c-.78.78-.78 2.05 0 2.83L4 21.41c.39.39.9.59 1.41.59.51 0 1.02-.2 1.41-.59l7.78-7.78 2.81-2.81c.8-.78.8-2.07 0-2.86zM5.41 20L4 18.59l7.72-7.72 1.47 1.35L5.41 20z\"/>\n",
              "  </svg>\n",
              "      </button>\n",
              "      \n",
              "  <style>\n",
              "    .colab-df-container {\n",
              "      display:flex;\n",
              "      flex-wrap:wrap;\n",
              "      gap: 12px;\n",
              "    }\n",
              "\n",
              "    .colab-df-convert {\n",
              "      background-color: #E8F0FE;\n",
              "      border: none;\n",
              "      border-radius: 50%;\n",
              "      cursor: pointer;\n",
              "      display: none;\n",
              "      fill: #1967D2;\n",
              "      height: 32px;\n",
              "      padding: 0 0 0 0;\n",
              "      width: 32px;\n",
              "    }\n",
              "\n",
              "    .colab-df-convert:hover {\n",
              "      background-color: #E2EBFA;\n",
              "      box-shadow: 0px 1px 2px rgba(60, 64, 67, 0.3), 0px 1px 3px 1px rgba(60, 64, 67, 0.15);\n",
              "      fill: #174EA6;\n",
              "    }\n",
              "\n",
              "    [theme=dark] .colab-df-convert {\n",
              "      background-color: #3B4455;\n",
              "      fill: #D2E3FC;\n",
              "    }\n",
              "\n",
              "    [theme=dark] .colab-df-convert:hover {\n",
              "      background-color: #434B5C;\n",
              "      box-shadow: 0px 1px 3px 1px rgba(0, 0, 0, 0.15);\n",
              "      filter: drop-shadow(0px 1px 2px rgba(0, 0, 0, 0.3));\n",
              "      fill: #FFFFFF;\n",
              "    }\n",
              "  </style>\n",
              "\n",
              "      <script>\n",
              "        const buttonEl =\n",
              "          document.querySelector('#df-44b26064-6bec-460b-8186-2b24b565e89b button.colab-df-convert');\n",
              "        buttonEl.style.display =\n",
              "          google.colab.kernel.accessAllowed ? 'block' : 'none';\n",
              "\n",
              "        async function convertToInteractive(key) {\n",
              "          const element = document.querySelector('#df-44b26064-6bec-460b-8186-2b24b565e89b');\n",
              "          const dataTable =\n",
              "            await google.colab.kernel.invokeFunction('convertToInteractive',\n",
              "                                                     [key], {});\n",
              "          if (!dataTable) return;\n",
              "\n",
              "          const docLinkHtml = 'Like what you see? Visit the ' +\n",
              "            '<a target=\"_blank\" href=https://colab.research.google.com/notebooks/data_table.ipynb>data table notebook</a>'\n",
              "            + ' to learn more about interactive tables.';\n",
              "          element.innerHTML = '';\n",
              "          dataTable['output_type'] = 'display_data';\n",
              "          await google.colab.output.renderOutput(dataTable, element);\n",
              "          const docLink = document.createElement('div');\n",
              "          docLink.innerHTML = docLinkHtml;\n",
              "          element.appendChild(docLink);\n",
              "        }\n",
              "      </script>\n",
              "    </div>\n",
              "  </div>\n",
              "  "
            ]
          },
          "metadata": {},
          "execution_count": 42
        }
      ]
    },
    {
      "cell_type": "code",
      "source": [
        "train_df['Tags'].value_counts()"
      ],
      "metadata": {
        "colab": {
          "base_uri": "https://localhost:8080/"
        },
        "id": "qrj8gc7nyypR",
        "outputId": "66c3d8ba-51ee-4627-c6cf-69a88ca2df39"
      },
      "execution_count": 43,
      "outputs": [
        {
          "output_type": "execute_result",
          "data": {
            "text/plain": [
              "['java']                            5894\n",
              "['c#']                              4409\n",
              "['android']                         4270\n",
              "['python']                          4176\n",
              "['c++']                             3689\n",
              "                                    ... \n",
              "['c#', '.net', 'mysql']                1\n",
              "['c#', 'java', 'python', 'c++']        1\n",
              "['php', 'jquery', 'html', 'css']       1\n",
              "['php', 'mysql', 'c']                  1\n",
              "['jquery', 'ios', 'iphone']            1\n",
              "Name: Tags, Length: 438, dtype: int64"
            ]
          },
          "metadata": {},
          "execution_count": 43
        }
      ]
    },
    {
      "cell_type": "code",
      "source": [
        "train_df['Tags'] = train_df['Tags'].apply(lambda x: ast.literal_eval(x))\n"
      ],
      "metadata": {
        "id": "l1KRaDUXzN2I"
      },
      "execution_count": 44,
      "outputs": []
    },
    {
      "cell_type": "code",
      "source": [
        "# Let's visualize some random training examples\n",
        "import random\n",
        "\n",
        "random_index = random.randint(0, len(train_df) - 5)  # create random indexes not higher than the total number of samples\n",
        "for row in train_df[[\"Text\", \"Tags\"]][random_index:random_index + 5].itertuples():\n",
        "    _, text, labels = row\n",
        "    print(f\"Text:\\n{text}\\n\")\n",
        "    print(f\"Labels: {labels}\")\n",
        "\n",
        "    print(\"---\\n\")"
      ],
      "metadata": {
        "colab": {
          "base_uri": "https://localhost:8080/"
        },
        "id": "8QvTx0tVzP3u",
        "outputId": "855c9353-ec5e-42b5-9424-6dde3b91e9f0"
      },
      "execution_count": 45,
      "outputs": [
        {
          "output_type": "stream",
          "name": "stdout",
          "text": [
            "Text:\n",
            "how do i compare two timestamps in c i am writing a socket program that maintains fifo queues for two input sockets when deciding which queue to service the program pulls the most recent timestamp from each queue i need a reliable method for comparing two timeval structs i tried using timercmp but my version of gcc does not support it and documentation states that the function is not posix compliantwhat should i do\n",
            "\n",
            "Labels: ['c']\n",
            "---\n",
            "\n",
            "Text:\n",
            "how to prevent newlineline break within a this is my codeform namepublishphp include locationselectorhtml input typesubmit valuesubmit formwhen thisplayed there is a newline preceding the submitbutton how to eliminate this newlineline breakthe html content of locationselectorhtml istabletrtde12eaocae a aatdtda aocoae a aatdtrtrtd aligncenterselect namepref onchangechangepreftrueoption value99a a12option value0aeoption value1ecoption value2a2coption value3aacoption value4coption value5aa12coption value6ca3coption value7e acoption value8 coption value9c34ecoption value10a14ccoption value11aecoption value12aoe12option value13caacoption value1412coption value15a acoption value16c3acoption value17caocoption value18a coption value19eecoption value20a2ecoption value21ea2coption value22ccoption value23a ecoption value24e3coption value25aoe12aooption value26aeaaooption value27aaocoption value28ae coption value29aacoption value30e3acoption value31a3 1coption value32a2acoption value33aoa3coption value34aacoption value35a343a3coption value36eacoption value37aacoption value38eccoption value39ca2coption value40a12e3coption value41ea coption value42ccoption value43aacoption value44aa coption value45e1aa3coption value462c cselecttdtd aligncenterselect namecityoption value99 selecteda aaooption valueoption valueoption valueoption valueoption valueoption valueoption valueselecttdtrtable\n",
            "\n",
            "Labels: ['html', 'css']\n",
            "---\n",
            "\n",
            "Text:\n",
            "run java code online codepadorg allow you to run ccd etc code online but not java is there a site that i can use for java\n",
            "\n",
            "Labels: ['java']\n",
            "---\n",
            "\n",
            "Text:\n",
            "how to detect whether my rails is running in migration or not in environmentrb any easy way to detect it i want to skip some codes in envirmonmentrb when doing migration rake\n",
            "\n",
            "Labels: ['ruby-on-rails']\n",
            "---\n",
            "\n",
            "Text:\n",
            "set custom keyboard for android application i know that there is the possibility to set a special keyboard with these attributes but i need my own keyboard as default how can i do that how can my app change the settingsas an example let us say i want the example softkeyboard as default for my appis that even possible\n",
            "\n",
            "Labels: ['android']\n",
            "---\n",
            "\n"
          ]
        }
      ]
    },
    {
      "cell_type": "markdown",
      "source": [
        "## One hot encoding of labels\n"
      ],
      "metadata": {
        "id": "4rocRLLuacWt"
      }
    },
    {
      "cell_type": "code",
      "source": [
        "multilabel = MultiLabelBinarizer()\n",
        "labels = multilabel.fit_transform(train_df['Tags'])\n",
        "labels"
      ],
      "metadata": {
        "colab": {
          "base_uri": "https://localhost:8080/"
        },
        "id": "sduBAGTPzSNp",
        "outputId": "d08c1036-418c-4b30-cbe5-6a90d0b628d0"
      },
      "execution_count": 46,
      "outputs": [
        {
          "output_type": "execute_result",
          "data": {
            "text/plain": [
              "array([[0, 0, 1, ..., 0, 0, 1],\n",
              "       [1, 0, 0, ..., 0, 0, 0],\n",
              "       [0, 0, 0, ..., 0, 0, 0],\n",
              "       ...,\n",
              "       [0, 0, 0, ..., 0, 0, 0],\n",
              "       [0, 0, 0, ..., 0, 0, 0],\n",
              "       [0, 0, 0, ..., 0, 0, 0]])"
            ]
          },
          "metadata": {},
          "execution_count": 46
        }
      ]
    },
    {
      "cell_type": "markdown",
      "source": [
        "## Split data into train and validation set\n"
      ],
      "metadata": {
        "id": "OJhf60gK1lLZ"
      }
    },
    {
      "cell_type": "code",
      "source": [
        "train_text, val_text, train_labels, val_labels = train_test_split(train_df[\"Text\"].to_numpy(),\n",
        "                                                                  labels,\n",
        "                                                                  test_size=0.1,\n",
        "                                                                  # dedicate 10% of samples to validation set\n",
        "                                                                  random_state=42)  # random state for reproducibility"
      ],
      "metadata": {
        "id": "B9zACLiLbDIl"
      },
      "execution_count": 47,
      "outputs": []
    },
    {
      "cell_type": "code",
      "source": [
        "len(train_text), len(train_labels), len(val_text), len(val_labels)"
      ],
      "metadata": {
        "colab": {
          "base_uri": "https://localhost:8080/"
        },
        "id": "kLY3JkVHbEWl",
        "outputId": "a8193714-c842-4647-b4db-72eca713f4ce"
      },
      "execution_count": 48,
      "outputs": [
        {
          "output_type": "execute_result",
          "data": {
            "text/plain": [
              "(44078, 44078, 4898, 4898)"
            ]
          },
          "metadata": {},
          "execution_count": 48
        }
      ]
    },
    {
      "cell_type": "markdown",
      "source": [
        "## Converting text into numbers (Tokenization)\n"
      ],
      "metadata": {
        "id": "qesUvQMebUxn"
      }
    },
    {
      "cell_type": "code",
      "source": [
        "average_sentence_len = round(sum([len(i.split()) for i in train_text]) / len(train_text))\n"
      ],
      "metadata": {
        "id": "GrrR0xeqbXRy"
      },
      "execution_count": 49,
      "outputs": []
    },
    {
      "cell_type": "code",
      "source": [
        "max_vocab_length = 10000\n",
        "max_sentence_length = average_sentence_len\n",
        "text_vectorizer = TextVectorization(max_tokens=max_vocab_length,  # how many words in the vocabulary\n",
        "                                    standardize=\"lower_and_strip_punctuation\",  # how to process text\n",
        "                                    split=\"whitespace\",  # how to split tokens\n",
        "                                    ngrams=None,  # create groups of n-words?\n",
        "                                    output_mode=\"int\",  # how to map tokens to numbers\n",
        "                                    output_sequence_length=max_sentence_length,\n",
        "                                    # how long should the output sequence of tokens be?\n",
        "                                    pad_to_max_tokens=True)"
      ],
      "metadata": {
        "id": "cN1Rrpt0bYrG"
      },
      "execution_count": 50,
      "outputs": []
    },
    {
      "cell_type": "code",
      "source": [
        "text_vectorizer.adapt(train_text)\n"
      ],
      "metadata": {
        "id": "f9DFebTybaE8"
      },
      "execution_count": 51,
      "outputs": []
    },
    {
      "cell_type": "code",
      "source": [
        "random_sentence = random.choice(train_text)\n",
        "print(f\"Original text:\\n{random_sentence}\\\n",
        "      \\n\\nVectorized version:\")\n",
        "text_vectorizer([random_sentence])"
      ],
      "metadata": {
        "colab": {
          "base_uri": "https://localhost:8080/"
        },
        "id": "EzBjY7RrbbKO",
        "outputId": "2bd9aef5-937d-453b-f509-ac033d18384a"
      },
      "execution_count": 52,
      "outputs": [
        {
          "output_type": "stream",
          "name": "stdout",
          "text": [
            "Original text:\n",
            "how to play two sound file at the same time with wpf i use soundplayer to play sound effects in the wpf program however i find that when two sounds effects are played at the same time the new one will replace the old one ie the new will terminate the old and play itself but what i want is to keep playing the old one even when the new one is playedsoundplayer wowsound new soundplayersoundeffectwowwavsoundplayer countingsound new soundplayersoundeffectfunnywavwowsoundplay play like background musiccountingsoundplay from click to generate the sound effect      \n",
            "\n",
            "Vectorized version:\n"
          ]
        },
        {
          "output_type": "execute_result",
          "data": {
            "text/plain": [
              "<tf.Tensor: shape=(1, 139), dtype=int64, numpy=\n",
              "array([[  27,    4,  736,  133, 1704,   50,   30,    2,   91,   96,   16,\n",
              "        1187,    3,   40,    1,    4,  736, 1704, 2725,    7,    2, 1187,\n",
              "         242,  172,    3,  104,   11,   36,  133, 2402, 2725,   35, 3473,\n",
              "          30,    2,   91,   96,    2,   32,   62,   59,  743,    2,  699,\n",
              "          62,  341,    2,   32,   59, 3119,    2,  699,    8,  736,  676,\n",
              "          20,   42,    3,   52,    6,    4,  458, 1413,    2,  699,   62,\n",
              "         197,   36,    2,   32,   62,    6,    1,    1,   32,    1,    1,\n",
              "          32,    1,  736,   34,  320,    1,   26,  349,    4,  532,    2,\n",
              "        1704,  886,    0,    0,    0,    0,    0,    0,    0,    0,    0,\n",
              "           0,    0,    0,    0,    0,    0,    0,    0,    0,    0,    0,\n",
              "           0,    0,    0,    0,    0,    0,    0,    0,    0,    0,    0,\n",
              "           0,    0,    0,    0,    0,    0,    0,    0,    0,    0,    0,\n",
              "           0,    0,    0,    0,    0,    0,    0]])>"
            ]
          },
          "metadata": {},
          "execution_count": 52
        }
      ]
    },
    {
      "cell_type": "code",
      "source": [
        "# Get the unique words in the vocabulary\n",
        "words_in_vocab = text_vectorizer.get_vocabulary()\n",
        "top_5_words = words_in_vocab[:5]  # most common tokens (notice the [UNK] token for \"unknown\" words)\n",
        "bottom_5_words = words_in_vocab[-5:]  # least common tokens\n",
        "print(f\"Number of words in vocab: {len(words_in_vocab)}\")\n",
        "print(f\"Top 5 most common words: {top_5_words}\")\n",
        "print(f\"Bottom 5 least common words: {bottom_5_words}\")"
      ],
      "metadata": {
        "colab": {
          "base_uri": "https://localhost:8080/"
        },
        "id": "9ODC20hSbd49",
        "outputId": "dcf99588-735b-4fc6-8232-56d021f3e671"
      },
      "execution_count": 53,
      "outputs": [
        {
          "output_type": "stream",
          "name": "stdout",
          "text": [
            "Number of words in vocab: 10000\n",
            "Top 5 most common words: ['', '[UNK]', 'the', 'i', 'to']\n",
            "Bottom 5 least common words: ['fibonacci', 'falsebut', 'fades', 'externally', 'explore']\n"
          ]
        }
      ]
    },
    {
      "cell_type": "markdown",
      "source": [
        "## Embedding\n"
      ],
      "metadata": {
        "id": "YQw44z8RbgGc"
      }
    },
    {
      "cell_type": "code",
      "source": [
        "from tensorflow.keras import layers\n",
        "\n",
        "embedding = layers.Embedding(input_dim=max_vocab_length,  # set input shape\n",
        "                             output_dim=128,  # set size of embedding vector\n",
        "                             embeddings_initializer=\"uniform\",  # default, intialize randomly\n",
        "                             input_length=max_sentence_length)  # how long is each input\n",
        "\n",
        "embedding"
      ],
      "metadata": {
        "colab": {
          "base_uri": "https://localhost:8080/"
        },
        "id": "izcVuvMYbiAb",
        "outputId": "b3335b5e-f5db-44c4-a366-63438ec11214"
      },
      "execution_count": 54,
      "outputs": [
        {
          "output_type": "execute_result",
          "data": {
            "text/plain": [
              "<keras.layers.embeddings.Embedding at 0x7f299b87ad90>"
            ]
          },
          "metadata": {},
          "execution_count": 54
        }
      ]
    },
    {
      "cell_type": "code",
      "source": [
        "# Get a random sentence from training set\n",
        "random_sentence = random.choice(train_text)\n",
        "print(f\"Original text:\\n{random_sentence}\\\n",
        "      \\n\\nEmbedded version:\")\n",
        "\n",
        "# Embed the random sentence (turn it into numerical representation)\n",
        "sample_embed = embedding(text_vectorizer([random_sentence]))\n",
        "sample_embed"
      ],
      "metadata": {
        "colab": {
          "base_uri": "https://localhost:8080/"
        },
        "id": "gZH_uMzDbi7G",
        "outputId": "2c16e0a1-f5e9-4883-9a17-38b1f1a34af0"
      },
      "execution_count": 55,
      "outputs": [
        {
          "output_type": "stream",
          "name": "stdout",
          "text": [
            "Original text:\n",
            "php call to undefined function mb strlen on custom compiled php with mbstring enabled i have this custom compiled php v533 with the following extensions enabled via configureconfigure prefixusrlocalphp533 withconfigfilepathusrlocalapache2conf withapxs2usrlocalapache2binapxs withbz2 withcurlusrlib withcurlwrappers withfreetypedirusrlocal withgdusrlocal withgettext withgmp withiconvusrlocal withimapusrlocalimap2007e withimapssl withjpegdirusrlocallib withkerberos withlibxmldirusrlib withmcryptusrlocal withmhash withmysqlusrlibmysql withmysqlsockvarlibmysqlmysqlsock withmysqliusrlibmysqlmysql config withopensslusr withpcredirusrlocallib withpear withpngdirusrlocallib withreadline withsqlite withxmlrpc withxslusrlocal withzlibdirusrlocallib withzlibusrlocal withoutpgsql enablebcmath enablecalendar enableexif enableembeddedmysqlishared enableftp enablegdjisconv enablegdnativettf enablembstringall enablembregex enableshared enablesockets enablesoap enablesqliteutf8 enablezendmultibyte enablezip thisablepdo thisablephar phpinfo clearly states that mbstring is enabledfunny thing is when i try to run some php scripts sugarcrm updates it reports the following errorphp fatal error call to undefined function mb strlen in crmincludepclzippclziplibphp on line 4165can anyone throw some light into why this is happening and how to fix thisthanksme      \n",
            "\n",
            "Embedded version:\n"
          ]
        },
        {
          "output_type": "execute_result",
          "data": {
            "text/plain": [
              "<tf.Tensor: shape=(1, 139, 128), dtype=float32, numpy=\n",
              "array([[[-0.01071844,  0.0046672 ,  0.03429085, ..., -0.04029176,\n",
              "         -0.02166603,  0.00506119],\n",
              "        [ 0.03639902, -0.03988792, -0.03639244, ..., -0.02591577,\n",
              "          0.02700436,  0.00857703],\n",
              "        [ 0.03170644,  0.01225835,  0.04985449, ...,  0.02632095,\n",
              "         -0.00350149,  0.04537134],\n",
              "        ...,\n",
              "        [ 0.02010592, -0.01643562, -0.01262695, ..., -0.04196341,\n",
              "         -0.01875532, -0.03415616],\n",
              "        [ 0.02010592, -0.01643562, -0.01262695, ..., -0.04196341,\n",
              "         -0.01875532, -0.03415616],\n",
              "        [ 0.02010592, -0.01643562, -0.01262695, ..., -0.04196341,\n",
              "         -0.01875532, -0.03415616]]], dtype=float32)>"
            ]
          },
          "metadata": {},
          "execution_count": 55
        }
      ]
    },
    {
      "cell_type": "markdown",
      "source": [
        "## Creating Baseline Model\n"
      ],
      "metadata": {
        "id": "3rL5A9AWbkod"
      }
    },
    {
      "cell_type": "code",
      "source": [
        "from sklearn.feature_extraction.text import TfidfVectorizer\n",
        "from sklearn.pipeline import Pipeline\n",
        "from sklearn.svm import LinearSVC\n",
        "from sklearn.multiclass import OneVsRestClassifier\n",
        "\n",
        "# Create tokenization and modelling\n",
        "# pipeline => To Sequentially apply a list of transforms\n",
        "model_0 = Pipeline([\n",
        "    (\"tfidf\", TfidfVectorizer()),  # convert words to numbers using tfidf\n",
        "    ('clf', OneVsRestClassifier(LinearSVC(), n_jobs=1))\n",
        "])\n"
      ],
      "metadata": {
        "id": "yeT2conPbnTL"
      },
      "execution_count": 56,
      "outputs": []
    },
    {
      "cell_type": "code",
      "source": [
        "model_0.fit(train_text, train_labels)"
      ],
      "metadata": {
        "colab": {
          "base_uri": "https://localhost:8080/"
        },
        "id": "BfV0jkTAbpg8",
        "outputId": "83fb7ebf-cd2e-41f2-cd0c-8f2e29e0ac3f"
      },
      "execution_count": 57,
      "outputs": [
        {
          "output_type": "execute_result",
          "data": {
            "text/plain": [
              "Pipeline(steps=[('tfidf', TfidfVectorizer()),\n",
              "                ('clf', OneVsRestClassifier(estimator=LinearSVC(), n_jobs=1))])"
            ]
          },
          "metadata": {},
          "execution_count": 57
        }
      ]
    },
    {
      "cell_type": "code",
      "source": [
        "model_0_predictions = model_0.predict(val_text)"
      ],
      "metadata": {
        "id": "1Ch96ZZLbr3p"
      },
      "execution_count": 58,
      "outputs": []
    },
    {
      "cell_type": "code",
      "source": [
        "# Function to evaluate: accuracy, precision, recall, f1-score\n",
        "from sklearn.metrics import accuracy_score, precision_recall_fscore_support\n",
        "\n",
        "\n",
        "def calculate_results(y_true, y_pred):\n",
        "    \"\"\"\n",
        "    Calculates model accuracy, precision, recall and f1 score of a binary classification model.\n",
        "\n",
        "    Args:\n",
        "    -----\n",
        "    y_true = true labels in the form of a 1D array\n",
        "    y_pred = predicted labels in the form of a 1D array\n",
        "\n",
        "    Returns a dictionary of accuracy, precision, recall, f1-score.\n",
        "    \"\"\"\n",
        "\n",
        "    true_labels = 0\n",
        "    count = 0\n",
        "    for i in range(len(y_true[0])):\n",
        "        true_labels += np.count_nonzero((model_0_predictions == val_labels)[:, i] == True)\n",
        "        count += len(model_0_predictions)\n",
        "\n",
        "    element_wise_accuracy = true_labels * 100 / count\n",
        "\n",
        "    # Calculate model accuracy\n",
        "    model_accuracy = accuracy_score(y_true, y_pred) * 100\n",
        "    # Calculate model precision, recall and f1 score using \"weighted\" average\n",
        "    model_precision, model_recall, model_f1, _ = precision_recall_fscore_support(y_true, y_pred, average=\"weighted\")\n",
        "    model_results = {\n",
        "        \"elementwise_accuracy\": element_wise_accuracy,\n",
        "        \"accuracy\": model_accuracy,\n",
        "        \"precision\": model_precision,\n",
        "        \"recall\": model_recall,\n",
        "        \"f1\": model_f1}\n",
        "    return model_results"
      ],
      "metadata": {
        "id": "NfeqfGUsbxE1"
      },
      "execution_count": 59,
      "outputs": []
    },
    {
      "cell_type": "code",
      "source": [
        "calculate_results(val_labels, model_0_predictions)"
      ],
      "metadata": {
        "colab": {
          "base_uri": "https://localhost:8080/"
        },
        "id": "5UBYmq3lbxdj",
        "outputId": "aa925b06-bd03-413f-b0aa-e56dfc76b16b"
      },
      "execution_count": 60,
      "outputs": [
        {
          "output_type": "execute_result",
          "data": {
            "text/plain": [
              "{'accuracy': 54.98162515312372,\n",
              " 'elementwise_accuracy': 97.09473254389546,\n",
              " 'f1': 0.7261454279536945,\n",
              " 'precision': 0.8371819082860844,\n",
              " 'recall': 0.6455717118307998}"
            ]
          },
          "metadata": {},
          "execution_count": 60
        }
      ]
    },
    {
      "cell_type": "markdown",
      "source": [
        "## Simple Dense Model\n"
      ],
      "metadata": {
        "id": "9fa1HF-sbztw"
      }
    },
    {
      "cell_type": "markdown",
      "source": [
        "Dense Layer is simple layer of neurons in which each neuron receives input from all the neurons of previous layer\n"
      ],
      "metadata": {
        "id": "GObXihxHb2MZ"
      }
    },
    {
      "cell_type": "code",
      "source": [
        "# Build model with the Functional API\n",
        "from tensorflow.keras import layers\n",
        "inputs = layers.Input(shape=(1,), dtype=\"string\") # inputs are 1-dimensional strings\n",
        "x = text_vectorizer(inputs) # turn the input text into numbers\n",
        "x = embedding(x) # create an embedding of the numerized numbers\n",
        "x = layers.GlobalAveragePooling1D()(x) # lower the dimensionality of the embedding (try running the model without this layer and see what happens)\n",
        "\n",
        "# Activation function decide whether the neuron should be activated or not\n",
        "outputs = layers.Dense(20, activation=\"sigmoid\")(x) # create the output layer, want binary outputs so use sigmoid activation\n",
        "model_1 = tf.keras.Model(inputs, outputs, name=\"model_1_dense\") # construct the model"
      ],
      "metadata": {
        "id": "EvMWug6Zb4bB"
      },
      "execution_count": 61,
      "outputs": []
    },
    {
      "cell_type": "code",
      "source": [
        "# Compile model\n",
        "model_1.compile(loss=\"binary_crossentropy\",\n",
        "                optimizer=tf.keras.optimizers.Adam(),\n",
        "                metrics=[\"accuracy\"])"
      ],
      "metadata": {
        "id": "dc349zLDb5Zp"
      },
      "execution_count": 62,
      "outputs": []
    },
    {
      "cell_type": "code",
      "source": [
        "model_1.summary()"
      ],
      "metadata": {
        "colab": {
          "base_uri": "https://localhost:8080/"
        },
        "id": "mcgjyXInb6ja",
        "outputId": "437b6684-9efe-46e6-b302-7de43fe4d844"
      },
      "execution_count": 63,
      "outputs": [
        {
          "output_type": "stream",
          "name": "stdout",
          "text": [
            "Model: \"model_1_dense\"\n",
            "_________________________________________________________________\n",
            " Layer (type)                Output Shape              Param #   \n",
            "=================================================================\n",
            " input_1 (InputLayer)        [(None, 1)]               0         \n",
            "                                                                 \n",
            " text_vectorization (TextVec  (None, 139)              0         \n",
            " torization)                                                     \n",
            "                                                                 \n",
            " embedding (Embedding)       (None, 139, 128)          1280000   \n",
            "                                                                 \n",
            " global_average_pooling1d (G  (None, 128)              0         \n",
            " lobalAveragePooling1D)                                          \n",
            "                                                                 \n",
            " dense (Dense)               (None, 20)                2580      \n",
            "                                                                 \n",
            "=================================================================\n",
            "Total params: 1,282,580\n",
            "Trainable params: 1,282,580\n",
            "Non-trainable params: 0\n",
            "_________________________________________________________________\n"
          ]
        }
      ]
    },
    {
      "cell_type": "code",
      "source": [
        "# Fit the model\n",
        "model_1_history = model_1.fit(train_text, # input sentences can be a list of strings due to text preprocessing layer built-in model\n",
        "                              train_labels,\n",
        "                              epochs=5,\n",
        "                              validation_data=(val_text, val_labels))"
      ],
      "metadata": {
        "colab": {
          "base_uri": "https://localhost:8080/"
        },
        "id": "u3xXf7KUb8QC",
        "outputId": "b51bb773-d0e9-4cc2-a019-810a45a27677"
      },
      "execution_count": 64,
      "outputs": [
        {
          "output_type": "stream",
          "name": "stdout",
          "text": [
            "Epoch 1/5\n",
            "1378/1378 [==============================] - 28s 20ms/step - loss: 0.2390 - accuracy: 0.1515 - val_loss: 0.2048 - val_accuracy: 0.2787\n",
            "Epoch 2/5\n",
            "1378/1378 [==============================] - 27s 20ms/step - loss: 0.1796 - accuracy: 0.4312 - val_loss: 0.1537 - val_accuracy: 0.5323\n",
            "Epoch 3/5\n",
            "1378/1378 [==============================] - 28s 20ms/step - loss: 0.1354 - accuracy: 0.5927 - val_loss: 0.1236 - val_accuracy: 0.6176\n",
            "Epoch 4/5\n",
            "1378/1378 [==============================] - 28s 20ms/step - loss: 0.1120 - accuracy: 0.6515 - val_loss: 0.1094 - val_accuracy: 0.6499\n",
            "Epoch 5/5\n",
            "1378/1378 [==============================] - 27s 20ms/step - loss: 0.0987 - accuracy: 0.6831 - val_loss: 0.1013 - val_accuracy: 0.6744\n"
          ]
        }
      ]
    },
    {
      "cell_type": "code",
      "source": [
        "model_1_predictions = model_1.predict(val_text)\n",
        "model_1_predictions"
      ],
      "metadata": {
        "colab": {
          "base_uri": "https://localhost:8080/"
        },
        "id": "Ii7j_wEub97i",
        "outputId": "b4648b05-b6a5-4895-ebb8-e66bf5b5baff"
      },
      "execution_count": 65,
      "outputs": [
        {
          "output_type": "execute_result",
          "data": {
            "text/plain": [
              "array([[0.07838702, 0.00107896, 0.02205145, ..., 0.00620398, 0.00676614,\n",
              "        0.12313461],\n",
              "       [0.00901812, 0.06354684, 0.0009785 , ..., 0.00633049, 0.00142828,\n",
              "        0.00154325],\n",
              "       [0.01424709, 0.00052884, 0.00118136, ..., 0.00442037, 0.00088558,\n",
              "        0.00232303],\n",
              "       ...,\n",
              "       [0.01686698, 0.00245553, 0.00854111, ..., 0.0124782 , 0.00549766,\n",
              "        0.0032863 ],\n",
              "       [0.00250921, 0.01018035, 0.00139329, ..., 0.0157817 , 0.00706756,\n",
              "        0.00321338],\n",
              "       [0.12546796, 0.12481517, 0.07196257, ..., 0.02503598, 0.02118418,\n",
              "        0.02179417]], dtype=float32)"
            ]
          },
          "metadata": {},
          "execution_count": 65
        }
      ]
    },
    {
      "cell_type": "code",
      "source": [
        "model_1_predictions = tf.squeeze(tf.round(model_1_predictions)) # squeeze removes single dimensions\n",
        "model_1_predictions"
      ],
      "metadata": {
        "colab": {
          "base_uri": "https://localhost:8080/"
        },
        "id": "txCLtjZnb_Gg",
        "outputId": "fbbfae36-7f8b-401f-df9d-d339cc684abc"
      },
      "execution_count": 66,
      "outputs": [
        {
          "output_type": "execute_result",
          "data": {
            "text/plain": [
              "<tf.Tensor: shape=(4898, 20), dtype=float32, numpy=\n",
              "array([[0., 0., 0., ..., 0., 0., 0.],\n",
              "       [0., 0., 0., ..., 0., 0., 0.],\n",
              "       [0., 0., 0., ..., 0., 0., 0.],\n",
              "       ...,\n",
              "       [0., 0., 0., ..., 0., 0., 0.],\n",
              "       [0., 0., 0., ..., 0., 0., 0.],\n",
              "       [0., 0., 0., ..., 0., 0., 0.]], dtype=float32)>"
            ]
          },
          "metadata": {},
          "execution_count": 66
        }
      ]
    },
    {
      "cell_type": "code",
      "source": [
        "calculate_results(val_labels, model_1_predictions)"
      ],
      "metadata": {
        "colab": {
          "base_uri": "https://localhost:8080/"
        },
        "id": "kHwLSucAcAgg",
        "outputId": "36a15b29-3168-4d63-f016-56e0c495d248"
      },
      "execution_count": 67,
      "outputs": [
        {
          "output_type": "execute_result",
          "data": {
            "text/plain": [
              "{'accuracy': 40.7309105757452,\n",
              " 'elementwise_accuracy': 97.09473254389546,\n",
              " 'f1': 0.5899267330864266,\n",
              " 'precision': 0.7838456728554627,\n",
              " 'recall': 0.48545935228023795}"
            ]
          },
          "metadata": {},
          "execution_count": 67
        }
      ]
    },
    {
      "cell_type": "markdown",
      "source": [
        "## Model 2 RNN (LSTM)"
      ],
      "metadata": {
        "id": "H1j4NcRwcCqh"
      }
    },
    {
      "cell_type": "code",
      "source": [
        "# Create LSTM model\n",
        "from tensorflow.keras import layers\n",
        "inputs = layers.Input(shape=(1,), dtype=\"string\")\n",
        "x = text_vectorizer(inputs)\n",
        "x = embedding(x)\n",
        "print(x.shape)\n",
        "# x = layers.LSTM(64, return_sequences=True)(x) # return vector for each word in the Tweet (you can stack RNN cells as long as return_sequences=True)\n",
        "x = layers.LSTM(64)(x) # return vector for whole sequence\n",
        "print(x.shape)\n",
        "# x = layers.Dense(64, activation=\"relu\")(x) # optional dense layer on top of output of LSTM cell\n",
        "outputs = layers.Dense(20, activation=\"sigmoid\")(x)\n",
        "model_2 = tf.keras.Model(inputs, outputs, name=\"model_2_LSTM\")"
      ],
      "metadata": {
        "colab": {
          "base_uri": "https://localhost:8080/"
        },
        "id": "MKiOfTJCcJj8",
        "outputId": "56370316-e451-4a4f-9e4a-9162969f66dd"
      },
      "execution_count": 68,
      "outputs": [
        {
          "output_type": "stream",
          "name": "stdout",
          "text": [
            "(None, 139, 128)\n",
            "(None, 64)\n"
          ]
        }
      ]
    },
    {
      "cell_type": "code",
      "source": [
        "# Compile model\n",
        "model_2.compile(loss=\"binary_crossentropy\",\n",
        "                optimizer=tf.keras.optimizers.Adam(),\n",
        "                metrics=[\"accuracy\"])"
      ],
      "metadata": {
        "id": "69pmSGhlcKpO"
      },
      "execution_count": 69,
      "outputs": []
    },
    {
      "cell_type": "code",
      "source": [
        "model_2.summary()"
      ],
      "metadata": {
        "colab": {
          "base_uri": "https://localhost:8080/"
        },
        "id": "9u82HioRcL0V",
        "outputId": "8c34b111-761b-4b69-c757-1c59696e7b44"
      },
      "execution_count": 70,
      "outputs": [
        {
          "output_type": "stream",
          "name": "stdout",
          "text": [
            "Model: \"model_2_LSTM\"\n",
            "_________________________________________________________________\n",
            " Layer (type)                Output Shape              Param #   \n",
            "=================================================================\n",
            " input_2 (InputLayer)        [(None, 1)]               0         \n",
            "                                                                 \n",
            " text_vectorization (TextVec  (None, 139)              0         \n",
            " torization)                                                     \n",
            "                                                                 \n",
            " embedding (Embedding)       (None, 139, 128)          1280000   \n",
            "                                                                 \n",
            " lstm (LSTM)                 (None, 64)                49408     \n",
            "                                                                 \n",
            " dense_1 (Dense)             (None, 20)                1300      \n",
            "                                                                 \n",
            "=================================================================\n",
            "Total params: 1,330,708\n",
            "Trainable params: 1,330,708\n",
            "Non-trainable params: 0\n",
            "_________________________________________________________________\n"
          ]
        }
      ]
    },
    {
      "cell_type": "code",
      "source": [
        "# Fit model\n",
        "model_2_history = model_2.fit(train_text,\n",
        "                              train_labels,\n",
        "                              epochs=5,\n",
        "                              validation_data=(val_text, val_labels))"
      ],
      "metadata": {
        "colab": {
          "base_uri": "https://localhost:8080/"
        },
        "id": "3NC4cUYncNdN",
        "outputId": "b267ac09-3f5e-4586-a004-75882e8b8a39"
      },
      "execution_count": 71,
      "outputs": [
        {
          "output_type": "stream",
          "name": "stdout",
          "text": [
            "Epoch 1/5\n",
            "1378/1378 [==============================] - 173s 124ms/step - loss: 0.1908 - accuracy: 0.2926 - val_loss: 0.1262 - val_accuracy: 0.5453\n",
            "Epoch 2/5\n",
            "1378/1378 [==============================] - 169s 123ms/step - loss: 0.0950 - accuracy: 0.6554 - val_loss: 0.0864 - val_accuracy: 0.6670\n",
            "Epoch 3/5\n",
            "1378/1378 [==============================] - 173s 125ms/step - loss: 0.0710 - accuracy: 0.7254 - val_loss: 0.0763 - val_accuracy: 0.7103\n",
            "Epoch 4/5\n",
            "1378/1378 [==============================] - 170s 123ms/step - loss: 0.0591 - accuracy: 0.7639 - val_loss: 0.0753 - val_accuracy: 0.7193\n",
            "Epoch 5/5\n",
            "1378/1378 [==============================] - 169s 123ms/step - loss: 0.0515 - accuracy: 0.7907 - val_loss: 0.0771 - val_accuracy: 0.7209\n"
          ]
        }
      ]
    },
    {
      "cell_type": "code",
      "source": [
        "model_2_predictions = tf.squeeze(tf.round(model_2.predict(val_text)))\n",
        "model_1_predictions"
      ],
      "metadata": {
        "colab": {
          "base_uri": "https://localhost:8080/"
        },
        "id": "8ED8ogAicO0Y",
        "outputId": "52125b62-ae5e-40eb-bd59-41fdcbeff65a"
      },
      "execution_count": 72,
      "outputs": [
        {
          "output_type": "execute_result",
          "data": {
            "text/plain": [
              "<tf.Tensor: shape=(4898, 20), dtype=float32, numpy=\n",
              "array([[0., 0., 0., ..., 0., 0., 0.],\n",
              "       [0., 0., 0., ..., 0., 0., 0.],\n",
              "       [0., 0., 0., ..., 0., 0., 0.],\n",
              "       ...,\n",
              "       [0., 0., 0., ..., 0., 0., 0.],\n",
              "       [0., 0., 0., ..., 0., 0., 0.],\n",
              "       [0., 0., 0., ..., 0., 0., 0.]], dtype=float32)>"
            ]
          },
          "metadata": {},
          "execution_count": 72
        }
      ]
    },
    {
      "cell_type": "code",
      "source": [
        "calculate_results(val_labels, model_2_predictions)"
      ],
      "metadata": {
        "colab": {
          "base_uri": "https://localhost:8080/"
        },
        "id": "0ZYnJAvacP96",
        "outputId": "df8ff3b1-7ec8-4080-90c7-c07105eaf91e"
      },
      "execution_count": 73,
      "outputs": [
        {
          "output_type": "execute_result",
          "data": {
            "text/plain": [
              "{'accuracy': 62.22948142098815,\n",
              " 'elementwise_accuracy': 97.09473254389546,\n",
              " 'f1': 0.7496415029100427,\n",
              " 'precision': 0.8146992853479141,\n",
              " 'recall': 0.7115003304692663}"
            ]
          },
          "metadata": {},
          "execution_count": 73
        }
      ]
    },
    {
      "cell_type": "markdown",
      "source": [
        "## TensorFlow Hub Pretrained Sentence Encoder\n"
      ],
      "metadata": {
        "id": "qeCTrWqLcRvt"
      }
    },
    {
      "cell_type": "code",
      "source": [
        "# Example of pretrained embedding with universal sentence encoder - https://tfhub.dev/google/universal-sentence-encoder/4\n",
        "import tensorflow_hub as hub\n",
        "embed = hub.load(\"https://tfhub.dev/google/universal-sentence-encoder/4\") # load Universal Sentence Encoder"
      ],
      "metadata": {
        "id": "eHwJUt6EcT-H"
      },
      "execution_count": 74,
      "outputs": []
    },
    {
      "cell_type": "code",
      "source": [
        "embed_samples = embed([\"When you call the universal sentence encoder on a sentence, it turns it into numbers.\"])\n",
        "\n",
        "print(embed_samples[0][:50])"
      ],
      "metadata": {
        "id": "-hohvxCNiCtt"
      },
      "execution_count": null,
      "outputs": []
    },
    {
      "cell_type": "code",
      "source": [
        "embed_samples[0].shape"
      ],
      "metadata": {
        "id": "3pYxhELBim1Z"
      },
      "execution_count": null,
      "outputs": []
    },
    {
      "cell_type": "code",
      "source": [
        "# We can use this encoding layer in place of our text_vectorizer and embedding layer\n",
        "sentence_encoder_layer = hub.KerasLayer(\"https://tfhub.dev/google/universal-sentence-encoder/4\",\n",
        "                                        input_shape=[], # shape of inputs coming to our model \n",
        "                                        dtype=tf.string, # data type of inputs coming to the USE layer\n",
        "                                        trainable=False, # keep the pretrained weights (we'll create a feature extractor)\n",
        "                                        name=\"USE\") "
      ],
      "metadata": {
        "id": "GP8OFC_yivx8"
      },
      "execution_count": null,
      "outputs": []
    },
    {
      "cell_type": "code",
      "source": [
        "# Create model using the Sequential API\n",
        "model_6 = tf.keras.Sequential([\n",
        "  sentence_encoder_layer, # take in sentences and then encode them into an embedding\n",
        "  layers.Dense(64, activation=\"relu\"),\n",
        "  layers.Dense(20, activation=\"sigmoid\")\n",
        "], name=\"model_6_USE\")\n",
        "\n",
        "# Compile model\n",
        "model_6.compile(loss=\"binary_crossentropy\",\n",
        "                optimizer=tf.keras.optimizers.Adam(),\n",
        "                metrics=[\"accuracy\"])\n",
        "\n",
        "model_6.summary()"
      ],
      "metadata": {
        "id": "OsSZPR2_iyFW"
      },
      "execution_count": null,
      "outputs": []
    },
    {
      "cell_type": "code",
      "source": [
        "# Train a classifier on top of pretrained embeddings\n",
        "model_6_history = model_6.fit(train_text,\n",
        "                              train_labels,\n",
        "                              epochs=5,\n",
        "                              validation_data=(val_text, val_labels))"
      ],
      "metadata": {
        "id": "Y_nD9wkai3Pw"
      },
      "execution_count": null,
      "outputs": []
    },
    {
      "cell_type": "code",
      "source": [
        "model_6_predictions = tf.squeeze(tf.round(model_6.predict(val_text)))\n",
        "model_6_predictions"
      ],
      "metadata": {
        "id": "HM4e9pY6i7bu"
      },
      "execution_count": null,
      "outputs": []
    },
    {
      "cell_type": "code",
      "source": [
        "calculate_results(val_labels, model_6_predictions)"
      ],
      "metadata": {
        "id": "KNLrEouak5MU"
      },
      "execution_count": null,
      "outputs": []
    },
    {
      "cell_type": "markdown",
      "source": [
        "# Document Tag Generator"
      ],
      "metadata": {
        "id": "XIBcBzEC8bXQ"
      }
    },
    {
      "cell_type": "code",
      "source": [
        "train_df = pd.read_csv(\"/content/drive/MyDrive/Document Tag Generator/projects_details.csv\")\n",
        "train_df.head()"
      ],
      "metadata": {
        "colab": {
          "base_uri": "https://localhost:8080/",
          "height": 635
        },
        "id": "6Irc6tih8rFQ",
        "outputId": "4737b2e5-b986-4f6e-d495-80bb5a55dac3"
      },
      "execution_count": 3,
      "outputs": [
        {
          "output_type": "execute_result",
          "data": {
            "text/plain": [
              "                                               title  \\\n",
              "0  A GUI for controlling and supervising multiple...   \n",
              "1           An Efficient System For Waste Collection   \n",
              "2  An automated system for monitoring and control...   \n",
              "3                      Automated Bike Sharing System   \n",
              "4  Automated Book Management System Automated Boo...   \n",
              "\n",
              "                                         description batch  \\\n",
              "0  The idea is to create a GUI platform where a u...   E15   \n",
              "1  This Project aims to implement an Efficient Wa...   E15   \n",
              "2  This is a system for automatically controlling...   E15   \n",
              "3  This project is about building an automated bi...   E15   \n",
              "4  In libraries, We have planned to implement a b...   E15   \n",
              "\n",
              "                          category  \\\n",
              "0  Cyber-Physical Systems Projects   \n",
              "1  Cyber-Physical Systems Projects   \n",
              "2  Cyber-Physical Systems Projects   \n",
              "3  Cyber-Physical Systems Projects   \n",
              "4  Cyber-Physical Systems Projects   \n",
              "\n",
              "                                         project_url  \\\n",
              "0  https://projects.ce.pdn.ac.lk/3yp/e15/A-GUI-fo...   \n",
              "1  https://projects.ce.pdn.ac.lk/3yp/e15/An-Effic...   \n",
              "2  https://projects.ce.pdn.ac.lk/3yp/e15/An-autom...   \n",
              "3  https://projects.ce.pdn.ac.lk/3yp/e15/Automate...   \n",
              "4  https://projects.ce.pdn.ac.lk/3yp/e15/Automate...   \n",
              "\n",
              "                                            repo_url  \\\n",
              "0  https://github.com/cepdnaclk/e15-3yp-A-GUI-for...   \n",
              "1  https://github.com/cepdnaclk/e15-3yp-An-Effici...   \n",
              "2  https://github.com/cepdnaclk/e15-3yp-An-automa...   \n",
              "3  https://github.com/cepdnaclk/e15-3yp-Automated...   \n",
              "4  https://github.com/cepdnaclk/e15-3yp-Automated...   \n",
              "\n",
              "                                            page_url  \\\n",
              "0  https://cepdnaclk.github.io/e15-3yp-A-GUI-for-...   \n",
              "1  https://cepdnaclk.github.io/e15-3yp-An-Efficie...   \n",
              "2  https://cepdnaclk.github.io/e15-3yp-An-automat...   \n",
              "3  https://cepdnaclk.github.io/e15-3yp-Automated-...   \n",
              "4  https://cepdnaclk.github.io/e15-3yp-Automated-...   \n",
              "\n",
              "                                            data_url  \\\n",
              "0  https://cepdnaclk.github.io/e15-3yp-A-GUI-for-...   \n",
              "1  https://cepdnaclk.github.io/e15-3yp-An-Efficie...   \n",
              "2  https://cepdnaclk.github.io/e15-3yp-An-automat...   \n",
              "3  https://cepdnaclk.github.io/e15-3yp-Automated-...   \n",
              "4  https://cepdnaclk.github.io/e15-3yp-Automated-...   \n",
              "\n",
              "                                             api_url  \n",
              "0  http://api.ce.pdn.ac.lk/projects/v1/3yp/E15/A-...  \n",
              "1  http://api.ce.pdn.ac.lk/projects/v1/3yp/E15/An...  \n",
              "2  http://api.ce.pdn.ac.lk/projects/v1/3yp/E15/An...  \n",
              "3  http://api.ce.pdn.ac.lk/projects/v1/3yp/E15/Au...  \n",
              "4  http://api.ce.pdn.ac.lk/projects/v1/3yp/E15/Au...  "
            ],
            "text/html": [
              "\n",
              "  <div id=\"df-6f5917c6-02a6-4d7f-bdc2-6375dd49def6\">\n",
              "    <div class=\"colab-df-container\">\n",
              "      <div>\n",
              "<style scoped>\n",
              "    .dataframe tbody tr th:only-of-type {\n",
              "        vertical-align: middle;\n",
              "    }\n",
              "\n",
              "    .dataframe tbody tr th {\n",
              "        vertical-align: top;\n",
              "    }\n",
              "\n",
              "    .dataframe thead th {\n",
              "        text-align: right;\n",
              "    }\n",
              "</style>\n",
              "<table border=\"1\" class=\"dataframe\">\n",
              "  <thead>\n",
              "    <tr style=\"text-align: right;\">\n",
              "      <th></th>\n",
              "      <th>title</th>\n",
              "      <th>description</th>\n",
              "      <th>batch</th>\n",
              "      <th>category</th>\n",
              "      <th>project_url</th>\n",
              "      <th>repo_url</th>\n",
              "      <th>page_url</th>\n",
              "      <th>data_url</th>\n",
              "      <th>api_url</th>\n",
              "    </tr>\n",
              "  </thead>\n",
              "  <tbody>\n",
              "    <tr>\n",
              "      <th>0</th>\n",
              "      <td>A GUI for controlling and supervising multiple...</td>\n",
              "      <td>The idea is to create a GUI platform where a u...</td>\n",
              "      <td>E15</td>\n",
              "      <td>Cyber-Physical Systems Projects</td>\n",
              "      <td>https://projects.ce.pdn.ac.lk/3yp/e15/A-GUI-fo...</td>\n",
              "      <td>https://github.com/cepdnaclk/e15-3yp-A-GUI-for...</td>\n",
              "      <td>https://cepdnaclk.github.io/e15-3yp-A-GUI-for-...</td>\n",
              "      <td>https://cepdnaclk.github.io/e15-3yp-A-GUI-for-...</td>\n",
              "      <td>http://api.ce.pdn.ac.lk/projects/v1/3yp/E15/A-...</td>\n",
              "    </tr>\n",
              "    <tr>\n",
              "      <th>1</th>\n",
              "      <td>An Efficient System For Waste Collection</td>\n",
              "      <td>This Project aims to implement an Efficient Wa...</td>\n",
              "      <td>E15</td>\n",
              "      <td>Cyber-Physical Systems Projects</td>\n",
              "      <td>https://projects.ce.pdn.ac.lk/3yp/e15/An-Effic...</td>\n",
              "      <td>https://github.com/cepdnaclk/e15-3yp-An-Effici...</td>\n",
              "      <td>https://cepdnaclk.github.io/e15-3yp-An-Efficie...</td>\n",
              "      <td>https://cepdnaclk.github.io/e15-3yp-An-Efficie...</td>\n",
              "      <td>http://api.ce.pdn.ac.lk/projects/v1/3yp/E15/An...</td>\n",
              "    </tr>\n",
              "    <tr>\n",
              "      <th>2</th>\n",
              "      <td>An automated system for monitoring and control...</td>\n",
              "      <td>This is a system for automatically controlling...</td>\n",
              "      <td>E15</td>\n",
              "      <td>Cyber-Physical Systems Projects</td>\n",
              "      <td>https://projects.ce.pdn.ac.lk/3yp/e15/An-autom...</td>\n",
              "      <td>https://github.com/cepdnaclk/e15-3yp-An-automa...</td>\n",
              "      <td>https://cepdnaclk.github.io/e15-3yp-An-automat...</td>\n",
              "      <td>https://cepdnaclk.github.io/e15-3yp-An-automat...</td>\n",
              "      <td>http://api.ce.pdn.ac.lk/projects/v1/3yp/E15/An...</td>\n",
              "    </tr>\n",
              "    <tr>\n",
              "      <th>3</th>\n",
              "      <td>Automated Bike Sharing System</td>\n",
              "      <td>This project is about building an automated bi...</td>\n",
              "      <td>E15</td>\n",
              "      <td>Cyber-Physical Systems Projects</td>\n",
              "      <td>https://projects.ce.pdn.ac.lk/3yp/e15/Automate...</td>\n",
              "      <td>https://github.com/cepdnaclk/e15-3yp-Automated...</td>\n",
              "      <td>https://cepdnaclk.github.io/e15-3yp-Automated-...</td>\n",
              "      <td>https://cepdnaclk.github.io/e15-3yp-Automated-...</td>\n",
              "      <td>http://api.ce.pdn.ac.lk/projects/v1/3yp/E15/Au...</td>\n",
              "    </tr>\n",
              "    <tr>\n",
              "      <th>4</th>\n",
              "      <td>Automated Book Management System Automated Boo...</td>\n",
              "      <td>In libraries, We have planned to implement a b...</td>\n",
              "      <td>E15</td>\n",
              "      <td>Cyber-Physical Systems Projects</td>\n",
              "      <td>https://projects.ce.pdn.ac.lk/3yp/e15/Automate...</td>\n",
              "      <td>https://github.com/cepdnaclk/e15-3yp-Automated...</td>\n",
              "      <td>https://cepdnaclk.github.io/e15-3yp-Automated-...</td>\n",
              "      <td>https://cepdnaclk.github.io/e15-3yp-Automated-...</td>\n",
              "      <td>http://api.ce.pdn.ac.lk/projects/v1/3yp/E15/Au...</td>\n",
              "    </tr>\n",
              "  </tbody>\n",
              "</table>\n",
              "</div>\n",
              "      <button class=\"colab-df-convert\" onclick=\"convertToInteractive('df-6f5917c6-02a6-4d7f-bdc2-6375dd49def6')\"\n",
              "              title=\"Convert this dataframe to an interactive table.\"\n",
              "              style=\"display:none;\">\n",
              "        \n",
              "  <svg xmlns=\"http://www.w3.org/2000/svg\" height=\"24px\"viewBox=\"0 0 24 24\"\n",
              "       width=\"24px\">\n",
              "    <path d=\"M0 0h24v24H0V0z\" fill=\"none\"/>\n",
              "    <path d=\"M18.56 5.44l.94 2.06.94-2.06 2.06-.94-2.06-.94-.94-2.06-.94 2.06-2.06.94zm-11 1L8.5 8.5l.94-2.06 2.06-.94-2.06-.94L8.5 2.5l-.94 2.06-2.06.94zm10 10l.94 2.06.94-2.06 2.06-.94-2.06-.94-.94-2.06-.94 2.06-2.06.94z\"/><path d=\"M17.41 7.96l-1.37-1.37c-.4-.4-.92-.59-1.43-.59-.52 0-1.04.2-1.43.59L10.3 9.45l-7.72 7.72c-.78.78-.78 2.05 0 2.83L4 21.41c.39.39.9.59 1.41.59.51 0 1.02-.2 1.41-.59l7.78-7.78 2.81-2.81c.8-.78.8-2.07 0-2.86zM5.41 20L4 18.59l7.72-7.72 1.47 1.35L5.41 20z\"/>\n",
              "  </svg>\n",
              "      </button>\n",
              "      \n",
              "  <style>\n",
              "    .colab-df-container {\n",
              "      display:flex;\n",
              "      flex-wrap:wrap;\n",
              "      gap: 12px;\n",
              "    }\n",
              "\n",
              "    .colab-df-convert {\n",
              "      background-color: #E8F0FE;\n",
              "      border: none;\n",
              "      border-radius: 50%;\n",
              "      cursor: pointer;\n",
              "      display: none;\n",
              "      fill: #1967D2;\n",
              "      height: 32px;\n",
              "      padding: 0 0 0 0;\n",
              "      width: 32px;\n",
              "    }\n",
              "\n",
              "    .colab-df-convert:hover {\n",
              "      background-color: #E2EBFA;\n",
              "      box-shadow: 0px 1px 2px rgba(60, 64, 67, 0.3), 0px 1px 3px 1px rgba(60, 64, 67, 0.15);\n",
              "      fill: #174EA6;\n",
              "    }\n",
              "\n",
              "    [theme=dark] .colab-df-convert {\n",
              "      background-color: #3B4455;\n",
              "      fill: #D2E3FC;\n",
              "    }\n",
              "\n",
              "    [theme=dark] .colab-df-convert:hover {\n",
              "      background-color: #434B5C;\n",
              "      box-shadow: 0px 1px 3px 1px rgba(0, 0, 0, 0.15);\n",
              "      filter: drop-shadow(0px 1px 2px rgba(0, 0, 0, 0.3));\n",
              "      fill: #FFFFFF;\n",
              "    }\n",
              "  </style>\n",
              "\n",
              "      <script>\n",
              "        const buttonEl =\n",
              "          document.querySelector('#df-6f5917c6-02a6-4d7f-bdc2-6375dd49def6 button.colab-df-convert');\n",
              "        buttonEl.style.display =\n",
              "          google.colab.kernel.accessAllowed ? 'block' : 'none';\n",
              "\n",
              "        async function convertToInteractive(key) {\n",
              "          const element = document.querySelector('#df-6f5917c6-02a6-4d7f-bdc2-6375dd49def6');\n",
              "          const dataTable =\n",
              "            await google.colab.kernel.invokeFunction('convertToInteractive',\n",
              "                                                     [key], {});\n",
              "          if (!dataTable) return;\n",
              "\n",
              "          const docLinkHtml = 'Like what you see? Visit the ' +\n",
              "            '<a target=\"_blank\" href=https://colab.research.google.com/notebooks/data_table.ipynb>data table notebook</a>'\n",
              "            + ' to learn more about interactive tables.';\n",
              "          element.innerHTML = '';\n",
              "          dataTable['output_type'] = 'display_data';\n",
              "          await google.colab.output.renderOutput(dataTable, element);\n",
              "          const docLink = document.createElement('div');\n",
              "          docLink.innerHTML = docLinkHtml;\n",
              "          element.appendChild(docLink);\n",
              "        }\n",
              "      </script>\n",
              "    </div>\n",
              "  </div>\n",
              "  "
            ]
          },
          "metadata": {},
          "execution_count": 3
        }
      ]
    },
    {
      "cell_type": "markdown",
      "source": [
        "## Function to preprocess text data\n",
        "\n",
        "*   Remove punctuation and numbers\n",
        "*   Lowercase\n",
        "*   Remove stop words\n",
        "\n"
      ],
      "metadata": {
        "id": "IrcX1z0v-B60"
      }
    },
    {
      "cell_type": "code",
      "source": [
        "import re\n",
        "import nltk\n",
        "from nltk.corpus import stopwords\n",
        "\n",
        "nltk.download('stopwords')\n",
        "\n",
        "\n",
        "def preprocessText(text):\n",
        "    text = re.sub(\"[^a-zA-Z]\", ' ', text)\n",
        "    text = text.lower().split()\n",
        "    swords = set(stopwords.words(\"english\"))\n",
        "    text = [w for w in text if w not in swords]\n",
        "    return text"
      ],
      "metadata": {
        "colab": {
          "base_uri": "https://localhost:8080/"
        },
        "id": "-Ejmuh0i8yMG",
        "outputId": "b0962bef-12df-4e5a-ad14-cfe84100f3ab"
      },
      "execution_count": 4,
      "outputs": [
        {
          "output_type": "stream",
          "name": "stdout",
          "text": [
            "[nltk_data] Downloading package stopwords to /root/nltk_data...\n",
            "[nltk_data]   Unzipping corpora/stopwords.zip.\n"
          ]
        }
      ]
    },
    {
      "cell_type": "code",
      "source": [
        "preprocessText(\"NEver tell me the odds.\")"
      ],
      "metadata": {
        "colab": {
          "base_uri": "https://localhost:8080/"
        },
        "id": "c2LGxmlM-fBD",
        "outputId": "6f5b851e-4f71-4f46-d4ab-f37f57cd58c8"
      },
      "execution_count": 5,
      "outputs": [
        {
          "output_type": "execute_result",
          "data": {
            "text/plain": [
              "['never', 'tell', 'odds']"
            ]
          },
          "metadata": {},
          "execution_count": 5
        }
      ]
    },
    {
      "cell_type": "code",
      "source": [
        "import random\n",
        "\n",
        "random_index = random.randint(0, len(train_df))\n",
        "description = train_df.iloc[random_index][\"description\"]\n",
        "print(\"Original Text\\n--------------->\")\n",
        "print(description)\n",
        "\n",
        "print(\"\\n\\nPreprocessed Text\\n--------------->\")\n",
        "print(preprocessText(description))\n",
        "\n",
        "\n"
      ],
      "metadata": {
        "colab": {
          "base_uri": "https://localhost:8080/"
        },
        "id": "t-k0B7lO-p94",
        "outputId": "2bc099cc-36f2-4cf4-94df-3ada16e708a1"
      },
      "execution_count": 6,
      "outputs": [
        {
          "output_type": "stream",
          "name": "stdout",
          "text": [
            "Original Text\n",
            "--------------->\n",
            "An intelligent API which is capable of passively tracking gyroscopic data to classify sobriety level in real-time that will help minimize risks of drunk-riding accidents for e-scooter sharing systems.\n",
            "\n",
            "\n",
            "Preprocessed Text\n",
            "--------------->\n",
            "['intelligent', 'api', 'capable', 'passively', 'tracking', 'gyroscopic', 'data', 'classify', 'sobriety', 'level', 'real', 'time', 'help', 'minimize', 'risks', 'drunk', 'riding', 'accidents', 'e', 'scooter', 'sharing', 'systems']\n"
          ]
        }
      ]
    },
    {
      "cell_type": "markdown",
      "source": [
        "## Read Proposed Tags"
      ],
      "metadata": {
        "id": "UGjxYLVo-q8M"
      }
    },
    {
      "cell_type": "code",
      "source": [
        "f = open(\"/content/drive/MyDrive/Document Tag Generator/tags.txt\")\n",
        "lines = f.readlines()\n",
        "\n",
        "tags = []\n",
        "for line in lines:\n",
        "  tags.append(line.strip().lower())"
      ],
      "metadata": {
        "id": "lodJ_6IKCJih"
      },
      "execution_count": 7,
      "outputs": []
    },
    {
      "cell_type": "code",
      "source": [
        "print(tags)"
      ],
      "metadata": {
        "colab": {
          "base_uri": "https://localhost:8080/"
        },
        "id": "l7zk34UvCfNh",
        "outputId": "83b9cd6b-1d08-44cf-a39d-66b4df088428"
      },
      "execution_count": 8,
      "outputs": [
        {
          "output_type": "stream",
          "name": "stdout",
          "text": [
            "['machine learning', 'artificial intelligence', 'embedded system', 'gui', 'network', 'internet of things', 'image processing', 'neural network', 'health', 'agriculture']\n"
          ]
        }
      ]
    },
    {
      "cell_type": "code",
      "source": [
        "import tensorflow_hub as hub\n",
        "\n",
        "universal_sentence_encoder = hub.load(\"https://tfhub.dev/google/universal-sentence-encoder/4\")\n",
        "wikipedia_embedding = hub.load(\"https://tfhub.dev/google/Wiki-words-250-with-normalization/2\")"
      ],
      "metadata": {
        "id": "Ejep0JwWJvGr"
      },
      "execution_count": 9,
      "outputs": []
    },
    {
      "cell_type": "code",
      "source": [
        "def getMostFrequentWords(text, n):\n",
        "  from collections import Counter\n",
        "\n",
        "  Counter = Counter(text)\n",
        "  words_with_count = Counter.most_common(n)\n",
        "\n",
        "  words = list(t[0] for t in words_with_count)\n",
        "  return words"
      ],
      "metadata": {
        "id": "5TehXcxAKqTx"
      },
      "execution_count": 11,
      "outputs": []
    },
    {
      "cell_type": "code",
      "source": [
        "getMostFrequentWords(preprocessText(description), 10)"
      ],
      "metadata": {
        "colab": {
          "base_uri": "https://localhost:8080/"
        },
        "id": "oyYbXWt7LDcP",
        "outputId": "78404fb1-d08a-4e91-df5b-03596754c64f"
      },
      "execution_count": 13,
      "outputs": [
        {
          "output_type": "execute_result",
          "data": {
            "text/plain": [
              "['intelligent',\n",
              " 'api',\n",
              " 'capable',\n",
              " 'passively',\n",
              " 'tracking',\n",
              " 'gyroscopic',\n",
              " 'data',\n",
              " 'classify',\n",
              " 'sobriety',\n",
              " 'level']"
            ]
          },
          "metadata": {},
          "execution_count": 13
        }
      ]
    },
    {
      "cell_type": "code",
      "source": [
        "generated_tags_file = \"generated_tags.txt\"\n",
        "\n",
        "f = open(\"/content/drive/MyDrive/Document Tag Generator/\" + generated_tags_file, \"w\")\n",
        "\n",
        "for i in range(len(train_df)):\n",
        "  print()\n",
        "  print(train_df.iloc[i][\"title\"])\n",
        "  f.write(train_df.iloc[i][\"title\"] + \"\\n\")\n",
        "  if train_df.isnull().iloc[i][\"description\"]:\n",
        "    continue\n",
        "  description = train_df.iloc[i][\"description\"].strip()\n",
        "\n",
        "  if len(description) == 0:\n",
        "    continue\n",
        "\n",
        "  preprocessed_description = preprocessText(description)\n",
        "  frequentWords = getMostFrequentWords(preprocessed_description, 300)\n",
        "\n",
        "  # print(\"Description\\n--------------->\")\n",
        "  # print(description)\n",
        "  matching_tags = []\n",
        "  for word in frequentWords:\n",
        "    for tag in tags:\n",
        "      embedding1 = universal_sentence_encoder([tag])\n",
        "      embedding2 = universal_sentence_encoder([word])\n",
        "\n",
        "      if np.inner(embedding1, embedding2) >= 0.5:\n",
        "        # print(tag, word, np.inner(embedding1, embedding2))\n",
        "        if tag not in matching_tags:\n",
        "          # print(tag, word, np.inner(embedding1, embedding2))\n",
        "          matching_tags.append(tag)\n",
        "\n",
        "  print(matching_tags)\n",
        "  f.write(str(matching_tags) + \"\\n\\n\")\n",
        "\n",
        "f.close()"
      ],
      "metadata": {
        "colab": {
          "base_uri": "https://localhost:8080/"
        },
        "id": "7iTcmG_ID4JC",
        "outputId": "978cb343-c847-4303-faf0-97df927767b4"
      },
      "execution_count": 39,
      "outputs": [
        {
          "output_type": "stream",
          "name": "stdout",
          "text": [
            "\n",
            "A GUI for controlling and supervising multiple robots remotely\n",
            "['gui', 'network', 'artificial intelligence']\n",
            "\n",
            "An Efficient System For Waste Collection\n",
            "['embedded system']\n",
            "\n",
            "An automated system for monitoring and controlling the water supply to a large farmland\n",
            "['embedded system']\n",
            "\n",
            "Automated Bike Sharing System\n",
            "['embedded system']\n",
            "\n",
            "Automated Book Management System Automated Book Carrying Robot\n",
            "['artificial intelligence', 'embedded system']\n",
            "\n",
            "Automated Vehicle Parking System\n",
            "['embedded system']\n",
            "\n",
            "Automated Water Quality Monitoring System\n",
            "['agriculture', 'embedded system', 'internet of things']\n",
            "\n",
            "Automatic Door Lock System\n",
            "['embedded system']\n",
            "\n",
            "E Checkup\n",
            "['health', 'gui', 'embedded system']\n",
            "\n",
            "Embedded system for detecting adverse gases\n",
            "['embedded system']\n",
            "\n",
            "Fire Detection and Alert System\n",
            "[]\n",
            "\n",
            "Health Watch\n",
            "['health']\n",
            "\n",
            "Hydroponics Automation System\n",
            "['agriculture', 'artificial intelligence', 'embedded system']\n",
            "\n",
            "Intelligent Road Traffic Control System\n",
            "['machine learning']\n",
            "\n",
            "Monitoring and Tracking System for Transportation of Pharmaceuticals\n",
            "\n",
            "Personal Physical Trainer PPT\n",
            "[]\n",
            "\n",
            "Safer Travel Utility SaVy\n",
            "['embedded system']\n",
            "\n",
            "Smart Educational Management System\n",
            "['embedded system', 'network']\n",
            "\n",
            "Smart Mirror\n",
            "[]\n",
            "\n",
            "Smart Monitoring and Automated Controlling System for an Aquarium\n",
            "['embedded system', 'internet of things']\n",
            "\n",
            "Air Quality Monitoring system\n",
            "['embedded system', 'health', 'network']\n",
            "\n",
            "Automated Attendance system\n",
            "['embedded system']\n",
            "\n",
            "Automated Bike Sharing System\n",
            "['embedded system']\n",
            "\n",
            "Automated Electricity Billing System\n",
            "['embedded system']\n",
            "\n",
            "Automated Fishing Bot\n",
            "[]\n",
            "\n",
            "Automated Greenhouse Fertilizing System\n",
            "['embedded system']\n",
            "\n",
            "Automated Monitoring of Hospital Patients\n",
            "['embedded system', 'health']\n",
            "\n",
            "Automatic Speed Trap\n",
            "[]\n",
            "\n",
            "Bus tracking system\n",
            "['embedded system', 'network']\n",
            "\n",
            "Control System for Heliostat Solar Power Plants\n",
            "['embedded system']\n",
            "\n",
            "Networked and Automated Weather Monitoring and Alerting System\n",
            "['embedded system']\n",
            "\n",
            "Real Time Water Qualtiy Measurement System\n",
            "['embedded system']\n",
            "\n",
            "River water level and speed monitoring and alert system\n",
            "['embedded system']\n",
            "\n",
            "Smart Breathalyzer Test\n",
            "['embedded system', 'gui']\n",
            "\n",
            "Smart Shopping Cart\n",
            "[]\n",
            "\n",
            "Smart Warehouse Monitoring for Paddy Storage\n",
            "['embedded system', 'network']\n",
            "\n",
            "Smart Waste Disposal Monitoring System\n",
            "['embedded system', 'health', 'internet of things', 'network']\n",
            "\n",
            "Telepresence Robot\n",
            "['artificial intelligence']\n",
            "\n",
            "Train Movement Tracking and Level Crossing Safety Control\n",
            "['embedded system']\n",
            "\n",
            "sleep apnea detection\n",
            "[]\n",
            "\n",
            "Covid Tracer\n",
            "['embedded system']\n",
            "\n",
            "E Parking System\n",
            "['embedded system']\n",
            "\n",
            "Landmine Detector\n",
            "['embedded system']\n",
            "\n",
            "Milk Testing and Collecting System\n",
            "[]\n",
            "\n",
            "Remote Gatekeeping System\n",
            "['embedded system']\n",
            "\n",
            "Secure Food Delivery\n",
            "['health', 'embedded system']\n",
            "\n",
            "Smart Cradle\n",
            "[]\n",
            "\n",
            "Smart Locker\n",
            "\n",
            "Smart Pet Feeder\n",
            "['health']\n",
            "\n",
            "Smart Pour\n",
            "[]\n",
            "\n",
            "Wild Life Tracker\n",
            "['embedded system']\n",
            "\n",
            "maker mate\n",
            "['embedded system']\n",
            "\n",
            "remote billiard\n",
            "[]\n",
            "\n",
            "remote keyboard tutoring system\n",
            "['embedded system', 'internet of things']\n",
            "\n",
            "remote medical diagnostics\n",
            "['health']\n",
            "\n",
            "remote proctoring system\n",
            "[]\n",
            "\n",
            "smart apartment security system\n",
            "['embedded system']\n",
            "\n",
            "smart garbage collection\n",
            "['embedded system', 'health']\n",
            "\n",
            "smart home\n",
            "\n",
            "smart shopping cart\n",
            "[]\n",
            "\n",
            "agribot\n",
            "['agriculture', 'artificial intelligence']\n",
            "\n",
            "automated railway ticketing system\n",
            "[]\n",
            "\n",
            "automatic fish tank control system\n",
            "['internet of things']\n",
            "\n",
            "chessMATE\n",
            "['network']\n",
            "\n",
            "computerized timetabling and attendance marking system\n",
            "['embedded system']\n",
            "\n",
            "digital signage based user targeted advertising\n",
            "\n",
            "full body motion tracking system\n",
            "[]\n",
            "\n",
            "gas level indicator and leakage detector\n",
            "['internet of things', 'embedded system']\n",
            "\n",
            "obstacle bots for swarm robots\n",
            "['artificial intelligence', 'machine learning']\n",
            "\n",
            "qurantine tracker\n",
            "['health']\n",
            "\n",
            "smart door lock\n",
            "['internet of things', 'embedded system']\n",
            "\n",
            "smart infared shooting sport\n",
            "[]\n",
            "\n",
            "smart meeting automaton\n",
            "['artificial intelligence', 'embedded system']\n",
            "\n",
            "smart payment system\n",
            "['embedded system']\n",
            "\n",
            "smart pharmaceutical warehousing\n",
            "['artificial intelligence', 'embedded system']\n",
            "\n",
            "smart pill manager\n",
            "[]\n",
            "\n",
            "smart shopping cart with automatic bill system\n",
            "['embedded system', 'internet of things']\n",
            "\n",
            "smart vending machine\n",
            "['internet of things']\n",
            "\n",
            "waiterbot system\n",
            "['embedded system', 'artificial intelligence', 'health', 'internet of things']\n",
            "\n",
            "water quality monitoring and usage monitoring system\n",
            "['embedded system', 'internet of things']\n",
            "\n",
            "Accelerating Adaptive Banded Event Alignment Algorithm with OpenCL on FPGA\n",
            "[]\n",
            "\n",
            "Brain Computer Interface for controlling virtual objects\n",
            "['gui', 'machine learning']\n",
            "\n",
            "Doppelganger Cartoon\n",
            "['machine learning', 'image processing']\n",
            "\n",
            "Explainable Machine Learning for Real World Resource Constrained Problems\n",
            "['machine learning', 'health']\n",
            "\n",
            "Hand Gesture Recognition using sEMG\n",
            "[]\n",
            "\n",
            "Identifying keywords in legal articles using ML techniques\n",
            "['embedded system', 'machine learning']\n",
            "\n",
            "Microservice Based Edge Computing Architecture\n",
            "\n",
            "Mixed Reality based Simulation Platform for Swarm Robotics\n",
            "['artificial intelligence', 'machine learning']\n",
            "\n",
            "Optimizing Mitochondria Genome Assembly And Annotation With Skim Sequencing Data\n",
            "[]\n",
            "\n",
            "Optimizing chloroplast genome assembly and annotation with skim sequencing data\n",
            "['machine learning']\n",
            "\n",
            "Pipeline for Isolation of Fast evolving ITS Regions from Skim Sequencing Data\n",
            "[]\n",
            "\n",
            "Real Time Data processing and AI for Distributed IoT\n",
            "['artificial intelligence', 'image processing', 'machine learning']\n",
            "\n",
            "Real Time Emotion Recognition using Electrocardiogram Analysis\n",
            "['health']\n",
            "\n",
            "Revealing miRNA Biomarkers for Alzheimer s Disease using NGS\n",
            "['health', 'machine learning']\n",
            "\n",
            "Wireles SDN Ad hoc Network For Vehicular Communication\n",
            "\n",
            "anonymous authentication\n",
            "[]\n",
            "\n",
            "cricket analysis\n",
            "['embedded system']\n",
            "\n",
            "human behavior prediction using cctv\n",
            "['embedded system']\n",
            "\n",
            "nearIR spectroscopy\n",
            "['health', 'embedded system']\n",
            "\n",
            "online proctoring system\n",
            "['embedded system', 'internet of things']\n",
            "\n",
            "sports action recognition\n",
            "['embedded system']\n",
            "\n",
            "CUDA_Fast_ICA\n",
            "[]\n",
            "\n",
            "building a testbed for power analysis attacks\n",
            "[]\n",
            "\n",
            "HBFT\n",
            "[]\n",
            "\n",
            "Temporal Attention Based MARL\n",
            "\n",
            "dark arts algorithms for low light image enhancement and interpretation\n",
            "['machine learning']\n",
            "\n",
            "f5n\n",
            "[]\n",
            "\n",
            "f5n_server\n",
            "['network']\n",
            "\n",
            "ipb\n",
            "['artificial intelligence']\n",
            "\n",
            "Agriculture Monitoring and Control System\n",
            "\n",
            "Remotely Controlled CNC Robot\n",
            "[]\n",
            "\n",
            "Analysis Tool for Industrial Images\n",
            "['image processing']\n",
            "\n",
            "Automated_Computerised_System\n",
            "\n",
            "ContactTracingApp\n",
            "\n",
            "Document Tag Generator\n",
            "[]\n",
            "\n",
            "Flood Forecasting System\n",
            "['embedded system']\n",
            "\n",
            "Greenhouse Monitoring System\n",
            "['embedded system', 'image processing', 'health']\n",
            "\n",
            "Greenhouse monitoring and controlling based on IOT sensor data\n",
            "['agriculture', 'embedded system', 'internet of things', 'gui']\n",
            "\n",
            "History of Music\n",
            "[]\n",
            "\n",
            "Host Pathogen Interaction\n",
            "['machine learning', 'gui']\n",
            "\n",
            "NGS Data AnalysingToolkit\n",
            "[]\n",
            "\n",
            "Oral Cavity Region Detection\n",
            "['internet of things']\n",
            "\n",
            "Prediction of heart disease using ECG\n",
            "['health']\n",
            "\n",
            "Prediction of risks associated with mass corona vaccination\n",
            "['health']\n",
            "\n",
            "Skim Sequencing Analysis\n",
            "[]\n",
            "\n",
            "Sobriety Detection Using Mobile Phone Gyroscope Data\n",
            "['embedded system']\n",
            "\n",
            "Visualization of Teacher Student Activities\n",
            "[]\n",
            "\n",
            "apparel industry performance analyser\n",
            "[]\n",
            "\n",
            "road accident analyzer\n",
            "[]\n",
            "\n",
            "Footwear Shop System\n",
            "[]\n",
            "\n",
            "Learning Management Systerm\n",
            "[]\n",
            "\n",
            "Movie Review System\n",
            "\n",
            "Pharmacy Management System\n",
            "\n",
            "Project Publication Platform\n",
            "[]\n",
            "\n",
            "Student Management System\n",
            "\n",
            "mystore\n",
            "\n",
            "GPSARSA gaussian process state action reward state actios based SITNSHOP\n",
            "['internet of things']\n",
            "\n",
            "Zero Trash\n",
            "[]\n",
            "\n",
            "Brain Tumor Detection\n",
            "\n",
            "Swarm Robot Monitoring System group A\n",
            "['embedded system', 'artificial intelligence']\n",
            "\n",
            "Swarm Robot Monitoring System group B\n",
            "['artificial intelligence', 'image processing']\n",
            "\n",
            "Swarm Robot Monitoring System group C\n",
            "['artificial intelligence']\n",
            "\n",
            "Mini Project Group H\n",
            "['embedded system']\n",
            "\n",
            "SL Number Plate Detection Group A\n",
            "[]\n",
            "\n",
            "Pera Knowledge Portal\n",
            "['internet of things']\n",
            "\n",
            "finite element based structural non linear analysis\n",
            "\n",
            "dynamic background cancellation in videos\n",
            "['machine learning']\n",
            "\n",
            "mabandit\n",
            "['machine learning']\n",
            "\n",
            "packet forwarding simulator\n",
            "['network']\n",
            "\n",
            "RISCV Pipeline CPU Implimentation Group2\n",
            "[]\n",
            "\n",
            "RISCV pipeline cpu implementation group04\n",
            "[]\n",
            "\n",
            "RV32IM NoC implementation\n",
            "\n",
            "RV32IM pipeline implementation group1\n",
            "[]\n",
            "\n",
            "RV32IM pipeline implementation group3\n",
            "['embedded system']\n",
            "\n",
            "balancing an inverted pendulum using a neural network\n",
            "[]\n",
            "\n",
            "business to business database\n",
            "[]\n"
          ]
        }
      ]
    },
    {
      "cell_type": "code",
      "source": [
        ""
      ],
      "metadata": {
        "colab": {
          "base_uri": "https://localhost:8080/"
        },
        "id": "2ZYe0DnvEIBb",
        "outputId": "76ce35db-817c-4b90-f772-b3a2e6d147d9"
      },
      "execution_count": 36,
      "outputs": [
        {
          "output_type": "execute_result",
          "data": {
            "text/plain": [
              "array([[0.63941824]], dtype=float32)"
            ]
          },
          "metadata": {},
          "execution_count": 36
        }
      ]
    },
    {
      "cell_type": "code",
      "source": [
        ""
      ],
      "metadata": {
        "id": "M9ppnhF_J9CY"
      },
      "execution_count": null,
      "outputs": []
    },
    {
      "cell_type": "code",
      "source": [
        ""
      ],
      "metadata": {
        "id": "Cfz8ITM5JQgx"
      },
      "execution_count": null,
      "outputs": []
    }
  ]
}